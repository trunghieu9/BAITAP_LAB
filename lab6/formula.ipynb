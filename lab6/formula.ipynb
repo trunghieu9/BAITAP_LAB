{
  "cells": [
    {
      "cell_type": "code",
      "execution_count": null,
      "metadata": {
        "id": "3CBnNucND5oK"
      },
      "outputs": [],
      "source": [
        "import torch"
      ]
    },
    {
      "cell_type": "markdown",
      "metadata": {
        "id": "thSaguPdD5oL"
      },
      "source": [
        "+ Hoàn thành công thức tính loss function."
      ]
    },
    {
      "cell_type": "code",
      "execution_count": null,
      "metadata": {
        "id": "BJfO9PZyD5oN"
      },
      "outputs": [],
      "source": [
        "# Công thức tính CrossEntropy Loss\n",
        "def crossEntropyLoss(output, target):\n",
        "    epsilon = 1e-10\n",
        "    output = torch.clamp(output, epsilon, 1.0 - epsilon)\n",
        "    loss = -torch.sum(target * torch.log(output))\n",
        "    return loss"
      ]
    },
    {
      "cell_type": "code",
      "execution_count": null,
      "metadata": {
        "id": "vUD-PHwMD5oO"
      },
      "outputs": [],
      "source": [
        "# Công thức tính Mean Square Error\n",
        "def meanSquareError(output, target):\n",
        "    loss = torch.mean((output - target) ** 2)\n",
        "    return loss"
      ]
    },
    {
      "cell_type": "code",
      "execution_count": null,
      "metadata": {
        "id": "R-mLb6hmD5oP"
      },
      "outputs": [],
      "source": [
        "# Công thức tính BinaryEntropy Loss\n",
        "def binaryEntropyLoss(output, target, n):\n",
        "    epsilon = 1e-10\n",
        "    output = torch.clamp(output, epsilon, 1.0 - epsilon)\n",
        "    loss = -torch.sum(target * torch.log(output) + (1 - target) * torch.log(1 - output)) / n\n",
        "    return loss"
      ]
    },
    {
      "cell_type": "code",
      "execution_count": null,
      "metadata": {
        "colab": {
          "base_uri": "https://localhost:8080/"
        },
        "id": "vjqI2aaSD5oP",
        "outputId": "b162045e-3ae1-4275-fd7c-63b9de118bc4"
      },
      "outputs": [
        {
          "output_type": "stream",
          "name": "stdout",
          "text": [
            "Mean Square Error: 0.08362500369548798\n",
            "Binary Entropy Loss: 0.7601855397224426\n",
            "Cross Entroypy Loss: 1.5790680646896362\n"
          ]
        }
      ],
      "source": [
        "inputs = torch.tensor([0.1, 0.3, 0.6, 0.7])\n",
        "target = torch.tensor([0.31, 0.32, 0.8, 0.2])\n",
        "n = len(inputs)\n",
        "mse = meanSquareError(inputs, target)\n",
        "binary_loss = binaryEntropyLoss(inputs, target, n)\n",
        "cross_loss = crossEntropyLoss(inputs, target)\n",
        "print(f\"Mean Square Error: {mse}\")\n",
        "print(f\"Binary Entropy Loss: {binary_loss}\")\n",
        "print(f\"Cross Entroypy Loss: {cross_loss}\")"
      ]
    },
    {
      "cell_type": "markdown",
      "metadata": {
        "id": "4Waacnc9D5oQ"
      },
      "source": [
        "+ Hoàn thành công thức tính activation function"
      ]
    },
    {
      "cell_type": "code",
      "execution_count": null,
      "metadata": {
        "id": "RmE_KoEoD5oQ"
      },
      "outputs": [],
      "source": [
        "# Công thức hàm sigmoid\n",
        "def sigmoid(x: torch.tensor):\n",
        "    return 1 / (1 + torch.exp(-x))"
      ]
    },
    {
      "cell_type": "code",
      "execution_count": null,
      "metadata": {
        "id": "NMNUg_p4D5oR"
      },
      "outputs": [],
      "source": [
        "# Công thức hàm relu\n",
        "def relu(x: torch.tensor):\n",
        "    return torch.maximum(torch.tensor(0.0), x)"
      ]
    },
    {
      "cell_type": "code",
      "execution_count": null,
      "metadata": {
        "id": "LT2wyPUiD5oS"
      },
      "outputs": [],
      "source": [
        "# Công thức hàm softmax\n",
        "def softmax(zi: torch.tensor):\n",
        "    exp_zi = torch.exp(zi)\n",
        "    return exp_zi / torch.sum(exp_zi)"
      ]
    },
    {
      "cell_type": "code",
      "execution_count": null,
      "metadata": {
        "id": "6ZybmzAkD5oS"
      },
      "outputs": [],
      "source": [
        "# Công thức hàm tanh\n",
        "def tanh(x: torch.tensor):\n",
        "    return (torch.exp(x) - torch.exp(-x)) / (torch.exp(x) + torch.exp(-x))"
      ]
    },
    {
      "cell_type": "code",
      "execution_count": null,
      "metadata": {
        "colab": {
          "base_uri": "https://localhost:8080/"
        },
        "id": "skLNFV-RD5oT",
        "outputId": "7f69cddd-0f4d-4675-d355-3d7324a89842"
      },
      "outputs": [
        {
          "output_type": "stream",
          "name": "stdout",
          "text": [
            "Sigmoid = tensor([0.7311, 0.9933, 0.0180, 0.9526, 0.1192])\n",
            "Relu = tensor([1., 5., 0., 3., 0.])\n",
            "Softmax = tensor([1.5862e-02, 8.6604e-01, 1.0688e-04, 1.1721e-01, 7.8972e-04])\n",
            "Tanh = tensor([ 0.7616,  0.9999, -0.9993,  0.9951, -0.9640])\n"
          ]
        }
      ],
      "source": [
        "x = torch.tensor([1, 5, -4, 3, -2])\n",
        "f_sigmoid = sigmoid(x)\n",
        "f_relu = relu(x)\n",
        "f_softmax = softmax(x)\n",
        "f_tanh = tanh(x)\n",
        "print(f\"Sigmoid = {f_sigmoid}\")\n",
        "print(f\"Relu = {f_relu}\")\n",
        "print(f\"Softmax = {f_softmax}\")\n",
        "print(f\"Tanh = {f_tanh}\")\n"
      ]
    }
  ],
  "metadata": {
    "kernelspec": {
      "display_name": "Python 3",
      "language": "python",
      "name": "python3"
    },
    "language_info": {
      "codemirror_mode": {
        "name": "ipython",
        "version": 3
      },
      "file_extension": ".py",
      "mimetype": "text/x-python",
      "name": "python",
      "nbconvert_exporter": "python",
      "pygments_lexer": "ipython3",
      "version": "3.11.5"
    },
    "colab": {
      "provenance": []
    }
  },
  "nbformat": 4,
  "nbformat_minor": 0
}